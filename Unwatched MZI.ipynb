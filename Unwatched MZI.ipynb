{
 "cells": [
  {
   "cell_type": "code",
   "execution_count": 7,
   "metadata": {},
   "outputs": [],
   "source": [
    "from qiskit import QuantumCircuit, QuantumRegister, ClassicalRegister, transpile\n",
    "from qiskit.circuit import Parameter\n",
    "from qiskit_aer import AerSimulator\n",
    "from qiskit.result import marginal_counts\n",
    "import numpy\n",
    "import matplotlib.pyplot as plot"
   ]
  },
  {
   "cell_type": "code",
   "execution_count": 8,
   "metadata": {},
   "outputs": [],
   "source": [
    "# Define constants & parameters\n",
    "pi = numpy.pi\n",
    "phi_R = Parameter('phi_R') \n",
    "phi_S = Parameter('phi_S')"
   ]
  },
  {
   "cell_type": "code",
   "execution_count": 35,
   "metadata": {},
   "outputs": [
    {
     "data": {
      "image/png": "[encoded data removed]",
      "text/plain": [
       "<Figure size 790.686x200.667 with 1 Axes>"
      ]
     },
     "execution_count": 35,
     "metadata": {},
     "output_type": "execute_result"
    }
   ],
   "source": [
    "# Create a quantum register named \"photon\" and a classical bit\n",
    "qr_photon = QuantumRegister(1, 'photon')\n",
    "cr = ClassicalRegister(1, 'detector')\n",
    "\n",
    "# Create a circuit with 1 qubit and 1 classical bit\n",
    "qc = QuantumCircuit(qr_photon, cr)\n",
    "\n",
    "# 1st BS; creates a superposition and a phase shift by π\n",
    "qc.h(0)\n",
    "qc.p(pi,0)\n",
    "\n",
    "# Phase shift by total of 2π due to the mirrors\n",
    "# qc.p(pi*2,0)\n",
    "\n",
    "# Phase shifts by (φ_S - φ_R) due to the lengths\n",
    "qc.p(phi_S-phi_R,0)\n",
    "\n",
    "# 2nd BS and a phase shift by π\n",
    "qc.h(0)\n",
    "qc.p(pi,0)\n",
    "\n",
    "# Measurement on qubit 0 (photon)\n",
    "qc.measure(0,0)\n",
    "\n",
    "# Draw the circuit\n",
    "qc.draw('mpl')"
   ]
  },
  {
   "cell_type": "code",
   "execution_count": 38,
   "metadata": {},
   "outputs": [
    {
     "name": "stdout",
     "output_type": "stream",
     "text": [
      "            ┌────────┐┌─┐\n",
      "    photon: ┤ U1(-π) ├┤M├\n",
      "            └────────┘└╥┘\n",
      "detector: 1/═══════════╩═\n",
      "                       0 \n",
      "{'0': 8192}\n"
     ]
    }
   ],
   "source": [
    "# Define backend\n",
    "backend = AerSimulator()\n",
    "\n",
    "# ASSIGN PARAMS HERE\n",
    "param_values = {phi_S: pi, phi_R: 0}\n",
    "bound_qc = qc.assign_parameters(param_values)\n",
    "\n",
    "# Transpile the circuit\n",
    "qc_trans = transpile(bound_qc, backend)\n",
    "print(qc_trans)\n",
    "\n",
    "# Run for 2^13 shots\n",
    "job = backend.run(qc_trans, shots=8192, memory=True)\n",
    "\n",
    "# Display results\n",
    "result = job.result()\n",
    "count_result = marginal_counts(result.get_counts(qc_trans))\n",
    "print(count_result)"
   ]
  },
  {
   "cell_type": "markdown",
   "metadata": {},
   "source": [
    "0 = dark dector, 1 = bright detector"
   ]
  },
  {
   "cell_type": "markdown",
   "metadata": {},
   "source": [
    "If phi_S = phi_R --> should only read out 1, \n",
    "if (phi_S - phi_R) = pi --> should only read out 0"
   ]
  }
 ],
 "metadata": {
  "kernelspec": {
   "display_name": "2024_QC_REU",
   "language": "python",
   "name": "python3"
  },
  "language_info": {
   "codemirror_mode": {
    "name": "ipython",
    "version": 3
   },
   "file_extension": ".py",
   "mimetype": "text/x-python",
   "name": "python",
   "nbconvert_exporter": "python",
   "pygments_lexer": "ipython3",
   "version": "3.12.4"
  }
 },
 "nbformat": 4,
 "nbformat_minor": 2
}
