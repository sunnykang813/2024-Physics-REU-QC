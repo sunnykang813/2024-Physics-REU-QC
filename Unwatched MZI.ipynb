{
 "cells": [
  {
   "cell_type": "code",
   "execution_count": 16,
   "metadata": {},
   "outputs": [],
   "source": [
    "from qiskit import QuantumCircuit, transpile\n",
    "from qiskit.circuit import Parameter\n",
    "from qiskit_aer import AerSimulator\n",
    "from qiskit.result import marginal_counts\n",
    "import numpy\n",
    "import matplotlib.pyplot as plot"
   ]
  },
  {
   "cell_type": "code",
   "execution_count": 17,
   "metadata": {},
   "outputs": [],
   "source": [
    "# Define constant & parameters\n",
    "pi = numpy.pi\n",
    "phi_R = Parameter('phi_R') \n",
    "phi_S = Parameter('phi_S')"
   ]
  },
  {
   "cell_type": "code",
   "execution_count": 18,
   "metadata": {},
   "outputs": [
    {
     "data": {
      "image/png": "[encoded data removed]",
      "text/plain": [
       "<Figure size 770.731x200.667 with 1 Axes>"
      ]
     },
     "execution_count": 18,
     "metadata": {},
     "output_type": "execute_result"
    }
   ],
   "source": [
    "# Create a circuit with 1 qubit and 1 classicla bit\n",
    "qc = QuantumCircuit(1,1)\n",
    "\n",
    "# 1st BS; creates superposition\n",
    "qc.h(0)\n",
    "\n",
    "# Phase shift by π due to the 1st BS\n",
    "qc.p(pi,0)\n",
    "\n",
    "# Phase shift by 2π due to the mirrors\n",
    "qc.p(pi*2,0)\n",
    "\n",
    "# Phase shifts by (φ_S - φ_R) due to the lengths\n",
    "qc.p(phi_S-phi_R,0)\n",
    "\n",
    "# 2nd BS;\n",
    "qc.h(0)\n",
    "\n",
    "# Phase shift by π due to the 2nd BS\n",
    "qc.p(pi,0)\n",
    "\n",
    "# Measure the qubit (0 = Dark,1 = Bright)\n",
    "qc.measure(0,0)\n",
    "\n",
    "qc.draw('mpl')"
   ]
  },
  {
   "cell_type": "code",
   "execution_count": 20,
   "metadata": {},
   "outputs": [
    {
     "name": "stdout",
     "output_type": "stream",
     "text": [
      "{'0': 8192}\n"
     ]
    }
   ],
   "source": [
    "# Define backend\n",
    "backend = AerSimulator()\n",
    "\n",
    "# Assign the parameter values\n",
    "param_values = {phi_S: pi, phi_R: pi}\n",
    "bound_qc = qc.assign_parameters(param_values)\n",
    "# Transpile the circuit\n",
    "qc_trans = transpile(bound_qc, backend)\n",
    "\n",
    "# Run for 2^13 shots\n",
    "job = backend.run(qc_trans, shots=8192, memory=True)\n",
    "result = job.result()\n",
    "count_result = marginal_counts(result.get_counts(qc_trans))\n",
    "print(count_result)"
   ]
  },
  {
   "cell_type": "markdown",
   "metadata": {},
   "source": [
    "0 = dark dector, 1 = bright detector"
   ]
  },
  {
   "cell_type": "markdown",
   "metadata": {},
   "source": [
    "If phi_S = phi_R --> should only read out 1, \n",
    "if (phi_S - phi_R) = pi --> should only read out 0"
   ]
  },
  {
   "cell_type": "markdown",
   "metadata": {},
   "source": []
  }
 ],
 "metadata": {
  "kernelspec": {
   "display_name": "2024_QC_REU",
   "language": "python",
   "name": "python3"
  },
  "language_info": {
   "codemirror_mode": {
    "name": "ipython",
    "version": 3
   },
   "file_extension": ".py",
   "mimetype": "text/x-python",
   "name": "python",
   "nbconvert_exporter": "python",
   "pygments_lexer": "ipython3",
   "version": "3.12.4"
  }
 },
 "nbformat": 4,
 "nbformat_minor": 2
}
