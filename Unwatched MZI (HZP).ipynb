{
 "cells": [
  {
   "cell_type": "code",
   "execution_count": 234,
   "metadata": {},
   "outputs": [],
   "source": [
    "import numpy as np\n",
    "import matplotlib.pyplot as plt\n",
    "from qiskit.visualization import plot_distribution\n",
    "from qiskit_experiments.library import LocalReadoutError, CorrelatedReadoutError\n",
    "from qiskit.result.mitigation.utils import expval_with_stddev, str2diag, counts_probability_vector\n",
    "from qiskit_aer import AerSimulator\n",
    "from qiskit_ibm_runtime.fake_provider import FakePerth\n",
    "\n",
    "from qiskit_ibm_provider import IBMProvider\n",
    "from qiskit_ibm_provider.job import job_monitor"
   ]
  },
  {
   "cell_type": "code",
   "execution_count": 235,
   "metadata": {},
   "outputs": [],
   "source": [
    "# Run only once to save the account\n",
    "#IBMProvider.save_account(token='27fc81cc1143099c58b23780dbcb4725f2393a6016b59258fece524e61c35934cfac5f04ca7d1253750225e775c3cc1df4fd115bd23f4632961569d497648186')"
   ]
  },
  {
   "cell_type": "code",
   "execution_count": 236,
   "metadata": {},
   "outputs": [
    {
     "data": {
      "text/plain": [
       "'\\nprovider = IBMProvider()\\nprovider.active_account()\\n\\nqpu = provider.get_backend()\\n'"
      ]
     },
     "execution_count": 236,
     "metadata": {},
     "output_type": "execute_result"
    }
   ],
   "source": [
    "\"\"\"\n",
    "provider = IBMProvider()\n",
    "provider.active_account()\n",
    "\n",
    "qpu = provider.get_backend()\n",
    "\"\"\""
   ]
  },
  {
   "cell_type": "code",
   "execution_count": 241,
   "metadata": {},
   "outputs": [],
   "source": [
    "# Define a backend\n",
    "backend = AerSimulator.from_backend(FakePerth())"
   ]
  },
  {
   "cell_type": "markdown",
   "metadata": {},
   "source": [
    "MITIGATION EXPERIMENT SETUP"
   ]
  },
  {
   "cell_type": "code",
   "execution_count": 242,
   "metadata": {},
   "outputs": [
    {
     "name": "stdout",
     "output_type": "stream",
     "text": [
      "         ░ ┌─┐\n",
      "     q: ─░─┤M├\n",
      "         ░ └╥┘\n",
      "meas: 1/════╩═\n",
      "            0 \n",
      "        ┌───┐ ░ ┌─┐\n",
      "     q: ┤ X ├─░─┤M├\n",
      "        └───┘ ░ └╥┘\n",
      "meas: 1/═════════╩═\n",
      "                 0 \n"
     ]
    }
   ],
   "source": [
    "# Set up the mitigation experiment\n",
    "qubits = [0]\n",
    "exp = CorrelatedReadoutError(qubits) \n",
    "\n",
    "# Print mitigation experiment circuits\n",
    "for c in exp.circuits():\n",
    "    print(c)"
   ]
  },
  {
   "cell_type": "markdown",
   "metadata": {},
   "source": [
    "MZI EXPERIMENT SETUP"
   ]
  },
  {
   "cell_type": "code",
   "execution_count": 243,
   "metadata": {},
   "outputs": [],
   "source": [
    "from qiskit import QuantumCircuit, QuantumRegister, ClassicalRegister, transpile\n",
    "from qiskit.circuit import Parameter\n",
    "from qiskit.result import marginal_counts"
   ]
  },
  {
   "cell_type": "code",
   "execution_count": 244,
   "metadata": {},
   "outputs": [],
   "source": [
    "# Define constants & parameters\n",
    "pi = np.pi\n",
    "phi_R = Parameter('phi_R') \n",
    "phi_S = Parameter('phi_S')"
   ]
  },
  {
   "cell_type": "code",
   "execution_count": 245,
   "metadata": {},
   "outputs": [
    {
     "data": {
      "image/png": "[encoded data removed]",
      "text/plain": [
       "<Figure size 790.686x200.667 with 1 Axes>"
      ]
     },
     "execution_count": 245,
     "metadata": {},
     "output_type": "execute_result"
    }
   ],
   "source": [
    "# Create a quantum register named \"photon\" and a classical bit\n",
    "qr_photon = QuantumRegister(1, 'photon')\n",
    "cr = ClassicalRegister(1, 'detector')\n",
    "\n",
    "# Create a circuit with 1 qubit and 1 classical bit\n",
    "qc = QuantumCircuit(qr_photon, cr)\n",
    "\n",
    "# 1st BS; creates a superposition and a phase shift by π\n",
    "qc.h(0)\n",
    "qc.z(0)\n",
    "\n",
    "# Phase shift by total of 2π due to the mirrors\n",
    "# qc.p(pi*2,0)\n",
    "\n",
    "# Phase shifts by (φ_S - φ_R) due to the lengths\n",
    "qc.p(phi_S-phi_R,0)\n",
    "\n",
    "# 2nd BS and a phase shift by π\n",
    "qc.h(0)\n",
    "qc.z(0)\n",
    "\n",
    "# Measurement on qubit 0 (photon), projection on cbit 0 (detector)\n",
    "qc.measure(0,0)\n",
    "\n",
    "# Draw the circuit\n",
    "qc.draw('mpl')"
   ]
  },
  {
   "cell_type": "code",
   "execution_count": 246,
   "metadata": {},
   "outputs": [],
   "source": [
    "# Transpile the circuit\n",
    "qc_trans = transpile(qc, backend)"
   ]
  },
  {
   "cell_type": "markdown",
   "metadata": {},
   "source": [
    "RUN EXPERIMENTS"
   ]
  },
  {
   "cell_type": "code",
   "execution_count": 247,
   "metadata": {},
   "outputs": [],
   "source": [
    "# Define # of shots for mitigation/qc runs\n",
    "shots = 8192 # 2^13"
   ]
  },
  {
   "cell_type": "code",
   "execution_count": 253,
   "metadata": {},
   "outputs": [],
   "source": [
    "# Define emtpy arrays that will store results for the experiments\n",
    "mitigators = []\n",
    "confusion_matrices = []\n",
    "inv_confusion_matrices = []\n",
    "unmitigated_counts = []\n",
    "\n",
    "# Define a function for running a mitigation exp\n",
    "def run_mitigation_exp():\n",
    "    result = exp.run(backend, shots=shots).block_for_results()\n",
    "    mitigator = result.analysis_results(\"Correlated Readout Mitigator\").value\n",
    "    mitigators.append(mitigator)\n",
    "    confusion_matrices.append(mitigator.assignment_matrix())\n",
    "    inv_confusion_matrices.append(mitigator.mitigation_matrix())\n",
    "\n",
    "# Define a function for running a QC exp\n",
    "def run_MZI_exp(bound_qc):\n",
    "    job = backend.run(bound_qc, shots=shots)\n",
    "    result = job.result()\n",
    "    unmitigated_counts.append(result.get_counts())\n",
    "\n",
    "# Assign phase shift values from 0 to 2π and run the mitigation & MZI experiments 33 times each with 8192 shots\n",
    "for i in range(33):\n",
    "    param_values = {phi_S: (pi/16)*i, phi_R: 0}\n",
    "    bound_qc = qc_trans.assign_parameters(param_values)\n",
    "    run_mitigation_exp()\n",
    "    run_MZI_exp(bound_qc)"
   ]
  },
  {
   "cell_type": "markdown",
   "metadata": {},
   "source": [
    "POST PROCESSING"
   ]
  },
  {
   "cell_type": "code",
   "execution_count": 254,
   "metadata": {},
   "outputs": [],
   "source": [
    "# Define an empty array of unmitigated probabilities of each circuit w/ a param from 0 to 2π\n",
    "unmitimitigated_probs = []\n",
    "mitigated_probs = []\n",
    "mitigaetd_quasi_probs = []\n",
    "mitigated_counts = []\n",
    "\n",
    "# Get unmitigated probabilities, mitigate probabilities, mitigated counts\n",
    "for i in range(33):\n",
    "    unmitimitigated_probs.append({label: count/shots for (label, count) in unmitigated_counts[i].items()})\n",
    "    mitigated_quasi_prob = mitigators[i].quasi_probabilities(unmitigated_counts[i])\n",
    "    mitigaetd_quasi_probs.append(mitigated_quasi_prob)\n",
    "    mitigated_probs.append(mitigated_quasi_prob.nearest_probability_distribution().binary_probabilities())\n",
    "    mitigated_counts.append({label: round(prob*shots) for (label, prob) in mitigated_probs[i].items()})"
   ]
  },
  {
   "cell_type": "markdown",
   "metadata": {},
   "source": [
    "PRINT RESULT"
   ]
  },
  {
   "cell_type": "code",
   "execution_count": 256,
   "metadata": {},
   "outputs": [
    {
     "name": "stdout",
     "output_type": "stream",
     "text": [
      "Unmitigated Counts: \n",
      "{'0': 235, '1': 7957}\n",
      "Mitigated Counts: \n",
      "{'1': 8192}\n"
     ]
    },
    {
     "data": {
      "image/png": "[encoded data removed]",
      "text/plain": [
       "<Figure size 700x500 with 1 Axes>"
      ]
     },
     "execution_count": 256,
     "metadata": {},
     "output_type": "execute_result"
    }
   ],
   "source": [
    "# Index of a circuit [0~32: 0=0π, 16=π, 32=2π]\n",
    "i = 0\n",
    "\n",
    "# Print unmitigated & mitigated counts and a probabilities plot\n",
    "print(\"Unmitigated Counts: \")\n",
    "print(unmitigated_counts[i]) \n",
    "print(\"Mitigated Counts: \")\n",
    "print(mitigated_counts[i])\n",
    "legend = ['Mitigated Probabilities','Unimitigated Probabilities']\n",
    "plot_distribution([mitigated_probs[i], unmitimitigated_probs[i]], legend=legend)"
   ]
  },
  {
   "cell_type": "code",
   "execution_count": null,
   "metadata": {},
   "outputs": [],
   "source": []
  }
 ],
 "metadata": {
  "kernelspec": {
   "display_name": "2024_QC_REU",
   "language": "python",
   "name": "python3"
  },
  "language_info": {
   "codemirror_mode": {
    "name": "ipython",
    "version": 3
   },
   "file_extension": ".py",
   "mimetype": "text/x-python",
   "name": "python",
   "nbconvert_exporter": "python",
   "pygments_lexer": "ipython3",
   "version": "3.12.4"
  }
 },
 "nbformat": 4,
 "nbformat_minor": 2
}
