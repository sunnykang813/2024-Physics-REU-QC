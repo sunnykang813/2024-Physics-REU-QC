{
 "cells": [
  {
   "cell_type": "code",
   "execution_count": 14,
   "metadata": {},
   "outputs": [],
   "source": [
    "import numpy as np\n",
    "import matplotlib.pyplot as plt\n",
    "from qiskit.visualization import plot_distribution\n",
    "from qiskit_experiments.library import LocalReadoutError, CorrelatedReadoutError\n",
    "from qiskit.result.mitigation.utils import expval_with_stddev, str2diag, counts_probability_vector\n",
    "from qiskit_aer import AerSimulator\n",
    "from qiskit_ibm_runtime.fake_provider import FakePerth\n",
    "\n",
    "from qiskit_ibm_provider import IBMProvider\n",
    "from qiskit_ibm_provider.job import job_monitor"
   ]
  },
  {
   "cell_type": "code",
   "execution_count": 15,
   "metadata": {},
   "outputs": [],
   "source": [
    "# Run only once to save the account\n",
    "#IBMProvider.save_account(token='27fc81cc1143099c58b23780dbcb4725f2393a6016b59258fece524e61c35934cfac5f04ca7d1253750225e775c3cc1df4fd115bd23f4632961569d497648186')"
   ]
  },
  {
   "cell_type": "code",
   "execution_count": 16,
   "metadata": {},
   "outputs": [
    {
     "data": {
      "text/plain": [
       "'\\nprovider = IBMProvider()\\nprovider.active_account()\\nqpu = provider.get_backend()\\n'"
      ]
     },
     "execution_count": 16,
     "metadata": {},
     "output_type": "execute_result"
    }
   ],
   "source": [
    "\"\"\"\n",
    "provider = IBMProvider()\n",
    "provider.active_account()\n",
    "qpu = provider.get_backend()\n",
    "\"\"\""
   ]
  },
  {
   "cell_type": "code",
   "execution_count": 17,
   "metadata": {},
   "outputs": [],
   "source": [
    "# Define a backend\n",
    "backend = AerSimulator.from_backend(FakePerth())"
   ]
  },
  {
   "cell_type": "markdown",
   "metadata": {},
   "source": [
    "MITIGATION EXPERIMENT SETUP"
   ]
  },
  {
   "cell_type": "code",
   "execution_count": 18,
   "metadata": {},
   "outputs": [
    {
     "name": "stdout",
     "output_type": "stream",
     "text": [
      "         ░ ┌─┐\n",
      "     q: ─░─┤M├\n",
      "         ░ └╥┘\n",
      "meas: 1/════╩═\n",
      "            0 \n",
      "        ┌───┐ ░ ┌─┐\n",
      "     q: ┤ X ├─░─┤M├\n",
      "        └───┘ ░ └╥┘\n",
      "meas: 1/═════════╩═\n",
      "                 0 \n"
     ]
    }
   ],
   "source": [
    "# Set up the mitigation experiment\n",
    "qubits = [0]\n",
    "exp = CorrelatedReadoutError(qubits) \n",
    "\n",
    "# Print mitigation experiment circuits\n",
    "for c in exp.circuits():\n",
    "    print(c)"
   ]
  },
  {
   "cell_type": "markdown",
   "metadata": {},
   "source": [
    "MZI EXPERIMENT SETUP"
   ]
  },
  {
   "cell_type": "code",
   "execution_count": 19,
   "metadata": {},
   "outputs": [],
   "source": [
    "from qiskit import QuantumCircuit, QuantumRegister, ClassicalRegister, transpile\n",
    "from qiskit.circuit import Parameter\n",
    "from qiskit.result import marginal_counts"
   ]
  },
  {
   "cell_type": "code",
   "execution_count": 20,
   "metadata": {},
   "outputs": [],
   "source": [
    "# Define constants & parameters\n",
    "pi = np.pi\n",
    "phi_R = Parameter('phi_R') \n",
    "phi_S = Parameter('phi_S')"
   ]
  },
  {
   "cell_type": "code",
   "execution_count": 21,
   "metadata": {},
   "outputs": [
    {
     "data": {
      "image/png": "[encoded data removed]",
      "text/plain": [
       "<Figure size 790.686x200.667 with 1 Axes>"
      ]
     },
     "execution_count": 21,
     "metadata": {},
     "output_type": "execute_result"
    }
   ],
   "source": [
    "# Create a quantum register named \"photon\" and a classical bit\n",
    "qr_photon = QuantumRegister(1, 'photon')\n",
    "cr = ClassicalRegister(1, 'detector')\n",
    "\n",
    "# Create a circuit with 1 qubit and 1 classical bit\n",
    "qc = QuantumCircuit(qr_photon, cr)\n",
    "\n",
    "# 1st BS; creates a superposition and a phase shift by π\n",
    "qc.h(0)\n",
    "qc.z(0)\n",
    "\n",
    "# Phase shift by total of 2π due to the mirrors\n",
    "# qc.p(pi*2,0)\n",
    "\n",
    "# Phase shifts by (φ_S - φ_R) due to the lengths\n",
    "qc.p(phi_S-phi_R,0)\n",
    "\n",
    "# 2nd BS and a phase shift by π\n",
    "qc.h(0)\n",
    "qc.z(0)\n",
    "\n",
    "# Measurement on qubit 0 (photon), projection on cbit 0 (detector)\n",
    "qc.measure(0,0)\n",
    "\n",
    "# Draw the circuit\n",
    "qc.draw('mpl')"
   ]
  },
  {
   "cell_type": "code",
   "execution_count": 22,
   "metadata": {},
   "outputs": [],
   "source": [
    "# Transpile the circuit\n",
    "qc_trans = transpile(qc, backend)"
   ]
  },
  {
   "cell_type": "markdown",
   "metadata": {},
   "source": [
    "RUN EXPERIMENTS"
   ]
  },
  {
   "cell_type": "code",
   "execution_count": 64,
   "metadata": {},
   "outputs": [],
   "source": [
    "# Define # of shots for mitigation/qc runs\n",
    "shots = 8192 # 2^13"
   ]
  },
  {
   "cell_type": "code",
   "execution_count": 106,
   "metadata": {},
   "outputs": [],
   "source": [
    "# Assign phase shift params from 0 to 2π, construct a list of circuits\n",
    "bound_qc = []\n",
    "for i in range(33):\n",
    "    param_values = {phi_S: (pi/16)*i, phi_R: 0}\n",
    "    bound_qc.append(qc_trans.assign_parameters(param_values))\n",
    "\n",
    "# Define empty arrays that will store results for the experiments\n",
    "mitigators = []\n",
    "confusion_matrices = []\n",
    "inv_confusion_matrices = []\n",
    "\n",
    "# Runs the mitigation exp, saves the mitigator object, confusion matrix and inv confusion matrix \n",
    "def run_mitigation_exp():\n",
    "    result = exp.run(backend, shots=shots).block_for_results()\n",
    "    mitigator = result.analysis_results(\"Correlated Readout Mitigator\").value\n",
    "    mitigators.append(mitigator)\n",
    "    confusion_matrices.append(mitigator.assignment_matrix())\n",
    "    inv_confusion_matrices.append(mitigator.mitigation_matrix())\n",
    "\n",
    "# Run the experiments\n",
    "run_mitigation_exp()\n",
    "job = backend.run(bound_qc, shots=shots)\n",
    "unmitigated_counts = job.result().get_counts()\n",
    "run_mitigation_exp()"
   ]
  },
  {
   "cell_type": "markdown",
   "metadata": {},
   "source": [
    "POST PROCESSING"
   ]
  },
  {
   "cell_type": "code",
   "execution_count": 226,
   "metadata": {},
   "outputs": [],
   "source": [
    "# Define empty arrays to store unmitigated probabilities, mitigated probabilities, and mitigated counts\n",
    "unmitigated_probs = []\n",
    "mitigated_quasi_probs = []\n",
    "mitigated_probs = []\n",
    "mitigated_counts = []\n",
    "\n",
    "# Takes in a mitigator index (0 for pre-mitigator, 1 for post-mitigator) and performs the least squares method mitigation\n",
    "def mitigation_method_1(mitigator_index):\n",
    "    for i in range(33):\n",
    "        unmitigated_probs.append({state: count/shots for (state, count) in unmitigated_counts[i].items()})\n",
    "        mitigated_quasi_probs.append(mitigators[mitigator_index].quasi_probabilities(unmitigated_counts[i]))\n",
    "        mitigated_probs.append(mitigated_quasi_probs[i].nearest_probability_distribution().binary_probabilities())\n",
    "        mitigated_counts.append({label: round(prob*shots) for (label, prob) in mitigated_probs[i].items()})\n",
    "\n",
    "\n",
    "def mitigation_method_2(mitigator_index):\n",
    "    for i in range(33):\n",
    "        unmitigated_probs.append({state: count/shots for (state, count) in unmitigated_counts[i].items()})\n",
    "        # Creates a column vector of the counts\n",
    "        vec_count = np.array([unmitigated_counts[i]['0'], unmitigated_counts[i]['1']])[:, np.newaxis]\n",
    "        mitigated_quasi_count = np.dot(inv_confusion_matrices[mitigator_index],vec_count)\n",
    "        # if either count is negative, set it to 0 and calculate the total count\n",
    "        if mitigated_quasi_count[0] < 0:\n",
    "            mitigated_quasi_count[0] = 0\n",
    "        if mitigated_quasi_count[1] < 0:\n",
    "            mitigated_quasi_count[1] = 0\n",
    "        total_count = mitigated_quasi_count[0] + mitigated_quasi_count[1]\n",
    "        # Define dictionaries\n",
    "        dict_count = {\n",
    "            '0': mitigated_quasi_count[0].item(),\n",
    "            '1': mitigated_quasi_count[1].item()\n",
    "        }\n",
    "        dict_prob = {\n",
    "            '0': (mitigated_quasi_count[0]/total_count).item(),\n",
    "            '1': (mitigated_quasi_count[1]/total_count).item()\n",
    "        }\n",
    "        mitigated_counts.append(dict_count)\n",
    "        mitigated_probs.append(dict_prob)    \n",
    "        "
   ]
  },
  {
   "cell_type": "markdown",
   "metadata": {},
   "source": [
    "PRINT RESULT"
   ]
  },
  {
   "cell_type": "code",
   "execution_count": 250,
   "metadata": {},
   "outputs": [
    {
     "name": "stdout",
     "output_type": "stream",
     "text": [
      "Unmitigated Counts: \n",
      "{'1': 4083, '0': 4109}\n",
      "Mitigated Counts: \n",
      "{'0': 4089.5983328991915, '1': 4102.401667100808}\n",
      "\n",
      "Unmitigated Prob: \n",
      "{'1': 0.4984130859375, '0': 0.5015869140625}\n",
      "Mitigated Prob: \n",
      "{'0': 0.4992185464964834, '1': 0.5007814535035167}\n"
     ]
    },
    {
     "data": {
      "image/png": "[encoded data removed]",
      "text/plain": [
       "<Figure size 700x500 with 1 Axes>"
      ]
     },
     "execution_count": 250,
     "metadata": {},
     "output_type": "execute_result"
    }
   ],
   "source": [
    "# Pick a mitigation_method (method_1 = least_squares, method_2 = throwaway zeros)\n",
    "# Parameter: 0 for pre-mitigator, 1 for post-mitigator\n",
    "mitigation_method_1(1)\n",
    "\n",
    "# Index of a circuit [0~32: 0=0π, 16=π, 32=2π]\n",
    "i = 24\n",
    "\n",
    "# Print unmitigated & mitigated counts and plot \n",
    "print(\"Unmitigated Counts: \")\n",
    "print(unmitigated_counts[i]) \n",
    "print(\"Mitigated Counts: \")\n",
    "print(mitigated_counts[i])\n",
    "print(\"\")\n",
    "print(\"Unmitigated Prob: \")\n",
    "print(unmitigated_probs[i])\n",
    "print(\"Mitigated Prob: \")\n",
    "print(mitigated_probs[i])\n",
    "\n",
    "legend = ['Mitigated Probabilities','Unimitigated Probabilities']\n",
    "plot_distribution([mitigated_probs[i], unmitigated_probs[i]], legend=legend)"
   ]
  },
  {
   "cell_type": "code",
   "execution_count": null,
   "metadata": {},
   "outputs": [],
   "source": []
  }
 ],
 "metadata": {
  "kernelspec": {
   "display_name": "2024_QC_REU",
   "language": "python",
   "name": "python3"
  },
  "language_info": {
   "codemirror_mode": {
    "name": "ipython",
    "version": 3
   },
   "file_extension": ".py",
   "mimetype": "text/x-python",
   "name": "python",
   "nbconvert_exporter": "python",
   "pygments_lexer": "ipython3",
   "version": "3.12.4"
  }
 },
 "nbformat": 4,
 "nbformat_minor": 2
}
